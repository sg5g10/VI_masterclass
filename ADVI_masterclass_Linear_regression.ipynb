{
  "nbformat": 4,
  "nbformat_minor": 0,
  "metadata": {
    "kernelspec": {
      "display_name": "Python 3",
      "language": "python",
      "name": "python3"
    },
    "language_info": {
      "codemirror_mode": {
        "name": "ipython",
        "version": 3
      },
      "file_extension": ".py",
      "mimetype": "text/x-python",
      "name": "python",
      "nbconvert_exporter": "python",
      "pygments_lexer": "ipython3",
      "version": "3.6.9"
    },
    "colab": {
      "provenance": [],
      "collapsed_sections": [],
      "include_colab_link": true
    }
  },
  "cells": [
    {
      "cell_type": "markdown",
      "metadata": {
        "id": "view-in-github",
        "colab_type": "text"
      },
      "source": [
        "<a href=\"https://colab.research.google.com/github/sg5g10/VI_masterclass/blob/main/ADVI_masterclass_Linear_regression.ipynb\" target=\"_parent\"><img src=\"https://colab.research.google.com/assets/colab-badge.svg\" alt=\"Open In Colab\"/></a>"
      ]
    },
    {
      "cell_type": "code",
      "source": [
        "import torch\n",
        "from torch.distributions import Normal, Gamma, Bernoulli\n",
        "\n",
        "import numpy as np\n",
        "import matplotlib.pyplot as plt\n",
        "from tqdm import trange\n",
        "\n",
        "# Set default type to float64 (instead of float32)\n",
        "torch.set_default_dtype(torch.float64)"
      ],
      "metadata": {
        "id": "c0C-8SRQfX1N"
      },
      "execution_count": 1,
      "outputs": []
    },
    {
      "cell_type": "markdown",
      "source": [
        "# ADVI\n",
        "The algorithm's main steps are as follows:\n",
        "1. Sample $\\epsilon \\sim \\mathcal{N}(0,1)$\n",
        "2. Generate $\\xi=\\mu + \\log(\\sigma) \\epsilon$\n",
        "3. Support transform, if needed, using $\\theta=\\mathcal{T}(\\xi)$\n",
        "4. Evaluate $\\mathcal{L}_{MC}(\\mu,\\log(\\sigma))$\n",
        "5. Apply SGD with automatic differentiation to evaluate $\\nabla_{\\mu,\\log(\\sigma)}\\mathcal{L}_{MC}(\\mu,\\log(\\sigma))$"
      ],
      "metadata": {
        "id": "V9vQ5NpfJHKA"
      }
    },
    {
      "cell_type": "markdown",
      "source": [
        "## A re-usable class for the variational approximation. \n",
        "\n",
        "This handles the parameterisation, sampling (with reparameterisation trick) and log density evaluations. Note Pytorch' distributions are coded in a way such that reparameterisation is supported whenever sampling is done.\n",
        "\n"
      ],
      "metadata": {
        "id": "djOMH5kiKonh"
      }
    },
    {
      "cell_type": "code",
      "source": [
        "from posixpath import sameopenfile\n",
        "# Variational Approximation\n",
        "class VarApprox():\n",
        "    def __init__(self, size, m=None, log_s=None, suppTrans=True):\n",
        "        if m is None:\n",
        "            # Set the mean for the unconstrained variational distribution.\n",
        "            m = torch.randn(size)\n",
        "\n",
        "        if log_s is None:\n",
        "            # Set the log standard deviation  for the unconstrained variational\n",
        "            # distribution.\n",
        "            log_s = torch.randn(size)\n",
        "\n",
        "        # Variational parameters\n",
        "        self.lam = torch.stack([m, log_s])\n",
        "        self.lam.requires_grad = True\n",
        "\n",
        "        # Dimension of the variational parameters\n",
        "        self.size = size\n",
        "\n",
        "        # Define support constraint\n",
        "        self.suppTrans = suppTrans\n",
        "\n",
        "    def dist(self):\n",
        "        # Unconstrained variational distribution -- a Gaussian always.\n",
        "        return torch.distributions.Normal(self.lam[0], self.lam[1].exp())\n",
        "\n",
        "    def rsample(self, n=torch.Size([20])):\n",
        "        # Same as:\n",
        "        # self.lam[0] + torch.randn(n) * self.lam[1].exp()\n",
        "\n",
        "        sample = self.dist().rsample(n)\n",
        "        if self.suppTrans:\n",
        "          return torch.exp(sample) # Transform to positive real\n",
        "        else:\n",
        "          return sample\n",
        "\n",
        "    def log_q(self, real):\n",
        "        # Log density of q evaluated on unonstrained\n",
        "        # space.\n",
        "        if self.suppTrans:\n",
        "          real = torch.log(real)\n",
        "        return self.dist().log_prob(real).sum(dim=1)\n"
      ],
      "metadata": {
        "id": "Gg9XHrSufaN-"
      },
      "execution_count": 2,
      "outputs": []
    },
    {
      "cell_type": "markdown",
      "source": [
        "## First example: Linear regression\n",
        "\n",
        "$$ \\beta_k\\sim \\mathcal{N}(0,1)\\\\\n",
        "\\sigma \\sim \\mathcal{\\gamma}(1,1)\\\\\n",
        "y_n \\sim \\mathcal{N}(\\boldsymbol{X}_n\\boldsymbol{\\beta}, \\sigma^2)$$\n",
        "\n",
        "Define the necessary functions for computing the following quantities: \n",
        "1. ``log_prior`` \n",
        "2. ``loglike``\n",
        "3. ``log_q``\n",
        "4. ``ELBO``"
      ],
      "metadata": {
        "id": "iW18yWfSK5wC"
      }
    },
    {
      "cell_type": "code",
      "source": [
        "def log_prior(params):\n",
        "  # log prior for beta, evaluated at sampled values for beta\n",
        "  lp_b = Normal(0, 1).log_prob(params['beta']).sum(dim=1)\n",
        "\n",
        "  # log prior sig\n",
        "  lp_log_sig = Gamma(1, 1).log_prob(params['sig']).sum(dim=1)\n",
        "  return lp_b + lp_log_sig\n",
        "\n",
        "def loglike(y, x, params):\n",
        "  beta = params['beta']\n",
        "  sig = params['sig']\n",
        "  return Normal(beta.matmul(x.T), sig).log_prob(y).sum(dim=-1) \n",
        "\n",
        "def log_q(var_approx, params):\n",
        "  out = 0.0\n",
        "  for site in var_approx:\n",
        "    out += var_approx[site].log_q(params[site])\n",
        "  return out\n",
        "\n",
        "def elbo(y, x, var_approx):\n",
        "  params = {}\n",
        "  for site in var_approx:\n",
        "      params[site] = var_approx[site].rsample()\n",
        "\n",
        "  out = loglike(y, x, params)\n",
        "  out += log_prior(params) \n",
        "  out -= log_q(var_approx, params)\n",
        "  \n",
        "  return out.mean()"
      ],
      "metadata": {
        "id": "5ISd_KubfhPN"
      },
      "execution_count": 3,
      "outputs": []
    },
    {
      "cell_type": "markdown",
      "source": [
        "### Generate some simulate data"
      ],
      "metadata": {
        "id": "zb2L0Elq4Wmw"
      }
    },
    {
      "cell_type": "code",
      "source": [
        "# Generate data\n",
        "N = 1000\n",
        "x = torch.stack([torch.ones(N), torch.randn(N)], -1)\n",
        "k = x.shape[1]\n",
        "beta = torch.tensor([2., -3.])\n",
        "sig = 0.5\n",
        "y = Normal(x.matmul(beta), sig).rsample()\n",
        "\n",
        "# Plot data\n",
        "plt.scatter(x[:, 1].numpy(), y.numpy())\n",
        "plt.xlabel(\"x\")\n",
        "plt.ylabel(\"y\")\n",
        "plt.show()"
      ],
      "metadata": {
        "id": "q5mTnKDWfwSd"
      },
      "execution_count": null,
      "outputs": []
    },
    {
      "cell_type": "markdown",
      "source": [
        "### SGD to maximise the MC ELBO Gradient\n",
        "\n",
        "The function below runs the stochastic gradient optimisation. Obviously the vanilla SGD is rarely used. So, we are going to use the ``ADAM`` variant."
      ],
      "metadata": {
        "id": "ZAuD85TQ5t-O"
      }
    },
    {
      "cell_type": "code",
      "source": [
        "def run_advi(_y, _x, approx, max_iter=5000, lr=0.1):\n",
        "  optimizer = torch.optim.Adam([approx[site].lam for site in var_approx], lr=lr)\n",
        "  elbo_hist = []\n",
        "\n",
        "  torch.manual_seed(1)\n",
        "\n",
        "  # Progress bar for SGD. max_iter determines the final iteration.\n",
        "  # mininterval determines refresh rate. Eevery 1 second used.\n",
        "  iters = trange(max_iter, mininterval=1)\n",
        "  N = x.shape[0]\n",
        "  # Stochastic gradient descent\n",
        "  for t in iters:\n",
        "    loss = -elbo(_y, _x, approx) / N\n",
        "    elbo_hist.append(-loss.item())\n",
        "    optimizer.zero_grad()\n",
        "    loss.backward()\n",
        "    optimizer.step()\n",
        "\n",
        "    # Print progress bar\n",
        "    iters.set_description('ELBO: {}'.format(elbo_hist[-1]), refresh=False) \n",
        "  return elbo_hist"
      ],
      "metadata": {
        "id": "j6Vx19ZmLqc6"
      },
      "execution_count": 5,
      "outputs": []
    },
    {
      "cell_type": "markdown",
      "source": [
        "### Press the inference button!\n",
        "1. Instantiate the ``VarApprox`` class. \n",
        "\n",
        "2. Run VI"
      ],
      "metadata": {
        "id": "cdCy4C_V7pcp"
      }
    },
    {
      "cell_type": "code",
      "source": [
        "var_approx = {'beta': VarApprox(size=k, suppTrans=False), 'sig': VarApprox(size=1)}\n",
        "loss = run_advi(y, x, var_approx)"
      ],
      "metadata": {
        "colab": {
          "base_uri": "https://localhost:8080/"
        },
        "id": "mRzN6z9Efztv",
        "outputId": "7a25f86e-61ff-451a-ba18-b1d1715af593"
      },
      "execution_count": 6,
      "outputs": [
        {
          "output_type": "stream",
          "name": "stderr",
          "text": [
            "ELBO: -0.7744201054638852: 100%|██████████| 5000/5000 [00:22<00:00, 223.16it/s]\n"
          ]
        }
      ]
    },
    {
      "cell_type": "code",
      "source": [
        "# Plot ELBO history\n",
        "plt.plot(loss)\n",
        "plt.title('complete elbo history')\n",
        "plt.show()\n",
        "\n",
        "# Plot ELBO history (after 400-th iteration)\n",
        "plt.plot(loss[500:])\n",
        "plt.title('tail of elbo history')"
      ],
      "metadata": {
        "id": "vK--x-jGtGpX"
      },
      "execution_count": null,
      "outputs": []
    },
    {
      "cell_type": "code",
      "source": [
        "# Inspect posterior\n",
        "nsamps = 1000\n",
        "sig_post = var_approx['sig'].rsample([nsamps]).detach().numpy()\n",
        "print('True beta: {}'.format(beta.detach().numpy()))\n",
        "print('beta mean: {}'.format(var_approx['beta'].lam[0].detach().numpy()))\n",
        "print('beta sd: {}'.format(var_approx['beta'].lam[1].exp().detach().numpy()))\n",
        "print()\n",
        "\n",
        "print('True sigma: {}'.format(sig))\n",
        "print('sig mean: {} | sig sd: {}'.format(sig_post.mean(), sig_post.std()))"
      ],
      "metadata": {
        "id": "Wb6A13VMHcw4"
      },
      "execution_count": null,
      "outputs": []
    },
    {
      "cell_type": "code",
      "source": [
        "#@title Excercise: Implement mini-batch ADVI, change the ``run_advi``, ``log_like`` and ``elbo`` functiona appropriately.\n",
        "def run_advi(_y, _x, approx, minibatch_size=100, max_iter=5000, lr=0.1):\n",
        "  optimizer = torch.optim.Adam([approx[site].lam for site in var_approx], lr=lr)\n",
        "  elbo_hist = []\n",
        "\n",
        "  torch.manual_seed(1)\n",
        "\n",
        "  # Progress bar for SGD. max_iter determines the final iteration.\n",
        "  # mininterval determines refresh rate. Eevery 1 second used.\n",
        "  iters = trange(max_iter, mininterval=1)\n",
        "  N = x.shape[0]\n",
        "  # Stochastic gradient descent\n",
        "  for t in iters:\n",
        "    sample_with_replacement = minibatch_size > N\n",
        "    batch_idx = np.random.choice(N, minibatch_size, replace=sample_with_replacement)\n",
        "    loss = -elbo(y[batch_idx], x[batch_idx, :], approx, full_data_size=N) / N\n",
        "    \n",
        "    elbo_hist.append(-loss.item())\n",
        "    optimizer.zero_grad()\n",
        "    loss.backward()\n",
        "    optimizer.step()\n",
        "\n",
        "    # Print progress bar\n",
        "    iters.set_description('ELBO: {}'.format(elbo_hist[-1]), refresh=False) \n",
        "  return elbo_hist\n",
        "\n",
        "def loglike(y, x, params, full_data_size):\n",
        "  beta = params['beta']\n",
        "  sig = params['sig']\n",
        "  return Normal(beta.matmul(x.T), sig).log_prob(y).mean(dim=-1) * full_data_size\n",
        "\n",
        "def elbo(y, x, var_approx, full_data_size):\n",
        "  params = {}\n",
        "  for site in var_approx:\n",
        "      params[site] = var_approx[site].rsample()\n",
        "\n",
        "  out = loglike(y, x, params, full_data_size)\n",
        "  out += log_prior(params) \n",
        "  out -= log_q(var_approx, params)\n",
        "  \n",
        "  return out.mean()\n",
        "\n",
        "var_approx = {'beta': VarApprox(size=k, suppTrans=False), 'sig': VarApprox(size=1)}\n",
        "loss = run_advi(y, x, var_approx)\n",
        "\n",
        "# Inspect posterior\n",
        "nsamps = 1000\n",
        "sig_post = var_approx['sig'].rsample([nsamps]).detach().numpy()\n",
        "print('\\n True beta: {}'.format(beta.detach().numpy()))\n",
        "print('beta mean: {}'.format(var_approx['beta'].lam[0].detach().numpy()))\n",
        "print('beta sd: {}'.format(var_approx['beta'].lam[1].exp().detach().numpy()))\n",
        "print()\n",
        "\n",
        "print('True sigma: {}'.format(sig))\n",
        "print('sig mean: {} | sig sd: {}'.format(sig_post.mean(), sig_post.std()))"
      ],
      "metadata": {
        "cellView": "form",
        "id": "2Zq6-SXCqQ2Q"
      },
      "execution_count": null,
      "outputs": []
    },
    {
      "cell_type": "code",
      "source": [],
      "metadata": {
        "id": "i3biA72HuFGo"
      },
      "execution_count": null,
      "outputs": []
    }
  ]
}