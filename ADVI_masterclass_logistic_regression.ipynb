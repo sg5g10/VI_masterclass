{
  "nbformat": 4,
  "nbformat_minor": 0,
  "metadata": {
    "kernelspec": {
      "display_name": "Python 3",
      "language": "python",
      "name": "python3"
    },
    "language_info": {
      "codemirror_mode": {
        "name": "ipython",
        "version": 3
      },
      "file_extension": ".py",
      "mimetype": "text/x-python",
      "name": "python",
      "nbconvert_exporter": "python",
      "pygments_lexer": "ipython3",
      "version": "3.6.9"
    },
    "colab": {
      "provenance": [],
      "collapsed_sections": [],
      "include_colab_link": true
    }
  },
  "cells": [
    {
      "cell_type": "markdown",
      "metadata": {
        "id": "view-in-github",
        "colab_type": "text"
      },
      "source": [
        "<a href=\"https://colab.research.google.com/github/sg5g10/VI_masterclass/blob/main/ADVI_masterclass_logistic_regression.ipynb\" target=\"_parent\"><img src=\"https://colab.research.google.com/assets/colab-badge.svg\" alt=\"Open In Colab\"/></a>"
      ]
    },
    {
      "cell_type": "code",
      "source": [
        "import torch\n",
        "from torch.distributions import Normal, Gamma, Bernoulli\n",
        "\n",
        "import numpy as np\n",
        "import matplotlib.pyplot as plt\n",
        "from tqdm import trange\n",
        "import seaborn as sns\n",
        "sns.set_context(\"paper\", font_scale=1)\n",
        "sns.set(rc={\"figure.figsize\":(9,9),\"font.size\":16,\"axes.titlesize\":16,\"axes.labelsize\":16,\n",
        "           \"xtick.labelsize\":15, \"ytick.labelsize\":15},style=\"white\")\n",
        "\n",
        "# Set default type to float64 (instead of float32)\n",
        "torch.set_default_dtype(torch.float64)"
      ],
      "metadata": {
        "id": "c0C-8SRQfX1N"
      },
      "execution_count": 1,
      "outputs": []
    },
    {
      "cell_type": "markdown",
      "source": [
        "# ADVI\n",
        "The algorithm's main steps are as follows:\n",
        "1. Sample $\\epsilon \\sim \\mathcal{N}(0,1)$\n",
        "2. Affine transform to generate $\\xi=\\mu + \\log(\\sigma) \\epsilon$\n",
        "3. Support transform, if needed, using $\\theta=\\mathcal{T}(\\xi)$\n",
        "4. Evaluate $\\mathcal{L}_{MC}(\\mu,\\log(\\sigma)$\n",
        "5. Apply SGD with automatic differentiation to evaluate $\\nabla_{\\mu,\\log(\\sigma)}\\mathcal{L}_{MC}(\\mu,\\log(\\sigma))$"
      ],
      "metadata": {
        "id": "V9vQ5NpfJHKA"
      }
    },
    {
      "cell_type": "markdown",
      "source": [
        "## A re-usable class for the variational approximation. \n",
        "\n",
        "This handles the parameterisation, sampling (with reparameterisation trick) and log density evaluations. Note Pytorch' distributions are coded in a way such that reparameterisation is supported whenever sampling is done.\n",
        "\n"
      ],
      "metadata": {
        "id": "djOMH5kiKonh"
      }
    },
    {
      "cell_type": "code",
      "source": [
        "from posixpath import sameopenfile\n",
        "# Variational Approximation\n",
        "class VarApprox():\n",
        "    def __init__(self, size, m=None, log_s=None, suppTrans=True):\n",
        "        if m is None:\n",
        "            # Set the mean for the unconstrained variational distribution.\n",
        "            m = torch.randn(size)\n",
        "\n",
        "        if log_s is None:\n",
        "            # Set the log standard deviation  for the unconstrained variational\n",
        "            # distribution.\n",
        "            log_s = torch.randn(size)\n",
        "\n",
        "        # Variational parameters\n",
        "        self.lam = torch.stack([m, log_s])\n",
        "        self.lam.requires_grad = True\n",
        "\n",
        "        # Dimension of the variational parameters\n",
        "        self.size = size\n",
        "\n",
        "        # Define support constraint\n",
        "        self.suppTrans = suppTrans\n",
        "\n",
        "    def dist(self):\n",
        "        # Unconstrained variational distribution -- a Gaussian always.\n",
        "        return torch.distributions.Normal(self.lam[0], self.lam[1].exp())\n",
        "\n",
        "    def rsample(self, n=torch.Size([20])):\n",
        "        # Same as:\n",
        "        # self.lam[0] + torch.randn(n) * self.lam[1].exp()\n",
        "\n",
        "        sample = self.dist().rsample(n)\n",
        "        if self.suppTrans:\n",
        "          return torch.exp(sample) # Transform to positive real\n",
        "        else:\n",
        "          return sample\n",
        "\n",
        "    def log_q(self, real):\n",
        "        # Log density of q evaluated on unonstrained\n",
        "        # space.\n",
        "        if self.suppTrans:\n",
        "          real = torch.log(real)\n",
        "        return self.dist().log_prob(real).sum(dim=1)\n"
      ],
      "metadata": {
        "id": "Gg9XHrSufaN-"
      },
      "execution_count": 2,
      "outputs": []
    },
    {
      "cell_type": "code",
      "source": [
        "def log_q(var_approx, params):\n",
        "  out = 0.0\n",
        "  for site in var_approx:\n",
        "    out += var_approx[site].log_q(params[site])\n",
        "  return out"
      ],
      "metadata": {
        "id": "hHfFL-GzPOGR"
      },
      "execution_count": 3,
      "outputs": []
    },
    {
      "cell_type": "code",
      "source": [
        "def elbo(y, x, var_approx):\n",
        "  params = {}\n",
        "  for site in var_approx:\n",
        "      params[site] = var_approx[site].rsample()\n",
        "\n",
        "  out = loglike(y, x, params)\n",
        "  out += log_prior(params) \n",
        "  out -= log_q(var_approx, params)\n",
        "  \n",
        "  return out.mean() "
      ],
      "metadata": {
        "id": "hgeEy4BBPMDe"
      },
      "execution_count": 4,
      "outputs": []
    },
    {
      "cell_type": "markdown",
      "source": [
        "To better visualise the ELBO, we can use a moving average. Specifically, we are going to use a small class to code-up an exponential moving average."
      ],
      "metadata": {
        "id": "X6icwyMBzFCH"
      }
    },
    {
      "cell_type": "code",
      "source": [
        "class EMAMetric(object):\n",
        "  def __init__(self, gamma=.99):\n",
        "\n",
        "    super(EMAMetric, self).__init__()\n",
        "    self._val = 0.\n",
        "    self._gamma = gamma\n",
        "\n",
        "  def step(self, x):\n",
        "    x = x.detach().cpu().numpy() if torch.is_tensor(x) else x\n",
        "    self._val = self._gamma * self._val + (1 - self._gamma) * x\n",
        "    return self._val\n",
        "\n",
        "  @property\n",
        "  def val(self):\n",
        "    return self._val"
      ],
      "metadata": {
        "id": "2YhGxrCpzYZu"
      },
      "execution_count": 5,
      "outputs": []
    },
    {
      "cell_type": "markdown",
      "source": [
        "## Example: Bayesian logistic regression\n",
        "\n",
        "$$ \\beta_k\\sim \\mathcal{N}(0,1)\\\\\n",
        "\\gamma \\sim \\mathcal{N}(0,1)\\\\\n",
        "y_n \\sim \\operatorname{Bern}(\\operatorname{Logit}^{-1}(\\boldsymbol{X}_n\\boldsymbol{\\beta} + \\gamma))$$\n",
        "\n",
        "Define the necessary functions for this models: \n",
        "1. ``log_prior`` \n",
        "2. ``loglike``\n"
      ],
      "metadata": {
        "id": "iW18yWfSK5wC"
      }
    },
    {
      "cell_type": "code",
      "source": [
        "#@title Excercise: Implement the ``log_prior`` and ``log_like`` functions.\n",
        "def log_prior(params):\n",
        "  # log prior for beta, evaluated at sampled values for beta\n",
        "  lp_b = Normal(0, 1).log_prob(params['beta']).sum(dim=1)\n",
        "\n",
        "  # log prior sig\n",
        "  lp_log_sig = Normal(0, 1).log_prob(params['gamma']).sum(dim=1)\n",
        "  return lp_b + lp_log_sig\n",
        "\n",
        "def loglike(y, x, params):\n",
        "  beta = params['beta']\n",
        "  gamma = params['gamma']\n",
        "  logit_prob = beta.matmul(x.T) + gamma\n",
        "  prob_pres = torch.log(torch.sigmoid(logit_prob))\n",
        "  prob_abs = torch.log(torch.sigmoid(-logit_prob))\n",
        "\n",
        "  return Bernoulli(logits=logit_prob).log_prob(y).sum(dim=-1) "
      ],
      "metadata": {
        "id": "5ISd_KubfhPN",
        "cellView": "form"
      },
      "execution_count": 6,
      "outputs": []
    },
    {
      "cell_type": "code",
      "source": [
        "#@title Excercise: Generate simulated data.\n",
        "N = 1000\n",
        "x = torch.stack([torch.randn(N), torch.randn(N)], -1)\n",
        "k = x.shape[1]\n",
        "beta = torch.randn(2)\n",
        "gamma = torch.randn(1)\n",
        "logit_true = beta @ x.T + gamma\n",
        "y = Bernoulli(logits=logit_true).sample()\n",
        "\n",
        "# Plot data\n",
        "plt.scatter(x[:, 1].numpy(), y.numpy())\n",
        "plt.xlabel(\"x\")\n",
        "plt.ylabel(\"y\")\n",
        "plt.show()"
      ],
      "metadata": {
        "id": "q5mTnKDWfwSd",
        "cellView": "form"
      },
      "execution_count": null,
      "outputs": []
    },
    {
      "cell_type": "markdown",
      "source": [
        "### Here is the run_advi routine from the last excercise"
      ],
      "metadata": {
        "id": "-Zt_uI-LQ9zk"
      }
    },
    {
      "cell_type": "code",
      "source": [
        "def run_advi(_y, _x, approx, max_iter=3000, lr=0.1):\n",
        "  optimizer = torch.optim.Adam([approx[site].lam for site in var_approx], lr=lr)\n",
        "  elbo_hist = []\n",
        "  loss_metric = EMAMetric()\n",
        "  torch.manual_seed(1)\n",
        "  iters = trange(max_iter, mininterval=1)\n",
        "  N = x.shape[0]\n",
        "  for t in iters:\n",
        "    loss = -elbo(_y, _x, approx) / N\n",
        "    optimizer.zero_grad()\n",
        "    loss.backward()\n",
        "    optimizer.step()\n",
        "    loss_metric.step(loss)\n",
        "    iters.set_description('ELBO: {}'.format(-loss_metric.val), refresh=False) \n",
        "    elbo_hist.append(loss_metric.val)\n",
        "  return elbo_hist"
      ],
      "metadata": {
        "id": "j6Vx19ZmLqc6"
      },
      "execution_count": 17,
      "outputs": []
    },
    {
      "cell_type": "markdown",
      "source": [
        "### Press the inference button!\n",
        "1. Instantiate the ``VarApprox`` class. gotcha: in this example we don't need support transformation.\n",
        "\n",
        "2. Run VI"
      ],
      "metadata": {
        "id": "ZHYe_q54RE6Z"
      }
    },
    {
      "cell_type": "code",
      "source": [
        "#@title Excercise: Instantiate the variational approx.\n",
        "var_approx = {'beta': VarApprox(size=k, suppTrans=False), 'gamma': VarApprox(size=1, suppTrans=False)}\n",
        "loss = run_advi(y, x, var_approx)"
      ],
      "metadata": {
        "id": "mRzN6z9Efztv",
        "cellView": "form"
      },
      "execution_count": null,
      "outputs": []
    },
    {
      "cell_type": "code",
      "source": [
        "# Plot ELBO history\n",
        "plt.plot(loss)\n",
        "plt.title('complete elbo history')\n",
        "plt.show()\n",
        "\n",
        "# Plot ELBO history (after 400-th iteration)\n",
        "plt.plot(loss[500:])\n",
        "plt.title('tail of elbo history')"
      ],
      "metadata": {
        "id": "vK--x-jGtGpX"
      },
      "execution_count": null,
      "outputs": []
    },
    {
      "cell_type": "code",
      "source": [
        "# Inspect posterior\n",
        "nsamps = 1000\n",
        "\n",
        "print('True beta: {}'.format(beta.detach().numpy()))\n",
        "print('beta mean: {}'.format(var_approx['beta'].lam[0].detach().numpy()))\n",
        "print('beta sd: {}'.format(var_approx['beta'].lam[1].exp().detach().numpy()))\n",
        "print()\n",
        "\n",
        "print('True sig: {}'.format(gamma.detach().numpy()))\n",
        "print('sig mean: {}'.format(var_approx['gamma'].lam[0].detach().numpy()))\n",
        "print('sig sd: {}'.format(var_approx['gamma'].lam[1].exp().detach().numpy()))\n",
        "print()"
      ],
      "metadata": {
        "id": "Wb6A13VMHcw4"
      },
      "execution_count": null,
      "outputs": []
    },
    {
      "cell_type": "markdown",
      "source": [
        "### Comparison with MCMC.\n",
        "\n",
        "This is a simple model (computationally). So, we can easily run MCMC to infer the posteriors. Lets do so.\n",
        "\n",
        "For this purpose we will be using a probabilistic programming library) (PPL), like STAN. In this case we will be using a very powerfull library Pyro.\n",
        "\n"
      ],
      "metadata": {
        "id": "GsqwQ7GGSdNV"
      }
    },
    {
      "cell_type": "code",
      "source": [
        "!pip3 install pyro-ppl"
      ],
      "metadata": {
        "id": "OIUSzA0ZirXV"
      },
      "execution_count": null,
      "outputs": []
    },
    {
      "cell_type": "code",
      "source": [
        "import pyro\n",
        "import pyro.distributions as dist\n",
        "from pyro.infer import MCMC, NUTS"
      ],
      "metadata": {
        "id": "-epb-8VgUYMv"
      },
      "execution_count": 22,
      "outputs": []
    },
    {
      "cell_type": "markdown",
      "source": [
        "\n",
        "\n",
        "Probabilistic models in Pyro are specified as Python functions ``model(*args, **kwargs)`` that generate observed data from latent variables using special primitive functions whose behavior can be changed by Pyro’s internals depending on the high-level computation being performed.\n",
        "\n",
        "Specifically, the different mathematical pieces of ``model()`` are encoded via the mapping:\n",
        "\n",
        "1.   latent random variables   ``pyro.sample``\n",
        "2.   observed random variables   ``pyro.sample`` with the obs keyword argument\n",
        "\n",
        "In the code below I have used a loop over the datapoint. But this can be avoided using ``pyro.plate`` notation. "
      ],
      "metadata": {
        "id": "4P_378JOvPey"
      }
    },
    {
      "cell_type": "code",
      "source": [
        "def model(y, x):\n",
        "    beta = pyro.sample(\"beta\", dist.Normal(torch.zeros(x.shape[1]), torch.ones(x.shape[1])))\n",
        "    gamma = pyro.sample(\"gamma\", dist.Normal(torch.zeros(1), torch.ones(1)))\n",
        "\n",
        "    logit_prob = beta.matmul(x.T) + gamma \n",
        "\n",
        "    for n in range(len(y)):\n",
        "        # observe datapoint i using the Bernoulli\n",
        "        # likelihood Bernoulli(logit)\n",
        "        pyro.sample(\"obs_{}\".format(n), dist.Bernoulli(logits=logit_prob[n]), obs=y[n])"
      ],
      "metadata": {
        "id": "bgrSJwqSU7m9"
      },
      "execution_count": 23,
      "outputs": []
    },
    {
      "cell_type": "code",
      "source": [
        "nuts_kernel = NUTS(model, jit_compile=True)\n",
        "mcmc = MCMC(\n",
        "        nuts_kernel,\n",
        "        num_samples=1000,\n",
        "        warmup_steps=500,\n",
        "        num_chains=2,\n",
        "    )\n",
        "mcmc.run(y, x)\n",
        "mcmc.summary(prob=0.5)"
      ],
      "metadata": {
        "id": "R8Bk88ifauZP"
      },
      "execution_count": null,
      "outputs": []
    },
    {
      "cell_type": "markdown",
      "source": [
        "Collect the parameter samples from the MCMC run. Samples parameters values from the variational approx. we have learnt."
      ],
      "metadata": {
        "id": "bTqux6-CvvsQ"
      }
    },
    {
      "cell_type": "code",
      "source": [
        "mc_params = np.concatenate((mcmc.get_samples()[\"beta\"], mcmc.get_samples()[\"gamma\"]),axis=1)\n",
        "\n",
        "vb_params = np.concatenate((var_approx['beta'].rsample([100]).detach().numpy(),\n",
        "                  var_approx['gamma'].rsample([100]).detach().numpy()), \n",
        "                 axis=1)"
      ],
      "metadata": {
        "id": "syPUWsdUbDOE"
      },
      "execution_count": 25,
      "outputs": []
    },
    {
      "cell_type": "markdown",
      "source": [
        "### Compare the two inference method"
      ],
      "metadata": {
        "id": "x6_I2OOzv6zL"
      }
    },
    {
      "cell_type": "code",
      "source": [
        "param_names = [r\"$\\beta_1$\",r\"$\\beta_2$\", r\"$\\beta_3$\"]\n",
        "real_params = np.array([*beta,gamma])\n",
        "for i, p in enumerate(param_names):\n",
        "        \n",
        "        # Add histogram subplot\n",
        "        plt.subplot(3, 1, i+1)\n",
        "        plt.axvline(real_params[i], linewidth=2.5, color='black')\n",
        "        if i==0:\n",
        "            sns.kdeplot(vb_params[:, i], color='magenta', linewidth = 2.5, label='Variational')\n",
        "            sns.kdeplot(mc_params[:, i], color='orange', linewidth = 2.5, label='MCMC')\n",
        "        elif i==1:\n",
        "          sns.kdeplot(vb_params[:, i], color='magenta', linewidth = 2.5, label='Variational')\n",
        "          sns.kdeplot(mc_params[:, 1], color='orange', linewidth = 2.5,label='MCMC')\n",
        "        else:\n",
        "          sns.kdeplot(vb_params[:, i], linewidth = 2.5, color='magenta')\n",
        "          sns.kdeplot(mc_params[:, i], linewidth = 2.5, color='orange')  \n",
        "\n",
        "        if i%2==0:\n",
        "            plt.ylabel('Frequency')\n",
        "        plt.xlabel(param_names[i])        \n",
        "        if i<1:\n",
        "            plt.legend(bbox_to_anchor=(0., 1.02, 1., .102), loc='lower center', ncol=2,fontsize=18)\n",
        "plt.subplots_adjust(hspace=0.7)\n",
        "plt.tight_layout()"
      ],
      "metadata": {
        "id": "g1E_LA21mD4-"
      },
      "execution_count": null,
      "outputs": []
    },
    {
      "cell_type": "code",
      "source": [],
      "metadata": {
        "id": "dj6em3BrmLLf"
      },
      "execution_count": null,
      "outputs": []
    }
  ]
}